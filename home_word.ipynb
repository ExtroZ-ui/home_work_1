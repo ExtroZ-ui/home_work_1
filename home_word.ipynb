{
 "cells": [
  {
   "cell_type": "code",
   "execution_count": 1,
   "metadata": {},
   "outputs": [
    {
     "name": "stdout",
     "output_type": "stream",
     "text": [
      "Введите год. Для выхода нажмите Esc.\n",
      "2002 - обычный год.\n",
      "2003 - обычный год.\n",
      "2023 - обычный год.\n",
      "2024 - високосный год.\n",
      "400 - високосный год.\n",
      "764 - високосный год.\n",
      "2016 - високосный год.\n",
      "2017 - обычный год.\n",
      "Программа завершена.\n"
     ]
    }
   ],
   "source": [
    "import keyboard\n",
    "\n",
    "def is_leap_year(year):\n",
    "    #Проверяет, является ли год високосным\n",
    "    return year % 4 == 0 and (year % 100 != 0 or year % 400 == 0)\n",
    "\n",
    "print(\"Введите год. Для выхода напишите Esc.\")\n",
    "\n",
    "while True:\n",
    "    try:\n",
    "        year_input = input('Введите год: ')\n",
    "\n",
    "        if year_input == 'Esc':\n",
    "            print(\"Программа завершена.\")\n",
    "            break\n",
    "        \n",
    "        # Если пользователь ввел что-то кроме числа, например, пробелы, Esc не отловится\n",
    "        if not year_input.strip():  \n",
    "            continue\n",
    "\n",
    "        year = int(year_input)\n",
    "        \n",
    "        if is_leap_year(year):\n",
    "            print(f'{year} - високосный год.')\n",
    "        else:\n",
    "            print(f'{year} - обычный год.')\n",
    "            \n",
    "    except ValueError:\n",
    "        print(\"Неверный ввод! Введите целое число.\")"
   ]
  }
 ],
 "metadata": {
  "kernelspec": {
   "display_name": "Python 3",
   "language": "python",
   "name": "python3"
  },
  "language_info": {
   "codemirror_mode": {
    "name": "ipython",
    "version": 3
   },
   "file_extension": ".py",
   "mimetype": "text/x-python",
   "name": "python",
   "nbconvert_exporter": "python",
   "pygments_lexer": "ipython3",
   "version": "3.11.9"
  }
 },
 "nbformat": 4,
 "nbformat_minor": 2
}
