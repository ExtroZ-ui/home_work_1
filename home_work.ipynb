{
 "cells": [
  {
   "cell_type": "code",
   "execution_count": 2,
   "metadata": {},
   "outputs": [
    {
     "name": "stdout",
     "output_type": "stream",
     "text": [
      "Введите год. Для выхода напишите Esc.\n",
      "2002 - обычный год.\n",
      "2000 - високосный год.\n",
      "2024 - високосный год.\n",
      "2013 - обычный год.\n",
      "Программа завершена.\n"
     ]
    }
   ],
   "source": [
    "import keyboard\n",
    "\n",
    "def is_leap_year(year):\n",
    "    #Проверяет, является ли год високосным\n",
    "    return year % 4 == 0 and (year % 100 != 0 or year % 400 == 0)\n",
    "\n",
    "print(\"Введите год. Для выхода напишите Esc.\")\n",
    "\n",
    "while True:\n",
    "    try:\n",
    "        year_input = input('Введите год: ')\n",
    "\n",
    "        if year_input == 'Esc':\n",
    "            print(\"Программа завершена.\")\n",
    "            break\n",
    "        \n",
    "        # Если пользователь ввел что-то кроме числа, например, пробелы, Esc не отловится\n",
    "        if not year_input.strip():  \n",
    "            continue\n",
    "\n",
    "        year = int(year_input)\n",
    "        \n",
    "        if is_leap_year(year):\n",
    "            print(f'{year} - високосный год.')\n",
    "        else:\n",
    "            print(f'{year} - обычный год.')\n",
    "            \n",
    "    except ValueError:\n",
    "        print(\"Неверный ввод! Введите целое число.\")"
   ]
  },
  {
   "cell_type": "code",
   "execution_count": 4,
   "metadata": {},
   "outputs": [
    {
     "name": "stdout",
     "output_type": "stream",
     "text": [
      "Введите номер проездного билета. Для выхода напишите Esc.\n",
      "\n",
      "\n",
      "Билет номер 123456 не является счастливым.\n",
      "Билет номер 123321 является счастливым!\n",
      "Ошибка: Билет 000, номер билета должен быть шестизначным.\n",
      "Программа завершена.\n"
     ]
    }
   ],
   "source": [
    "import keyboard\n",
    "\n",
    "print(\"Введите номер проездного билета. Для выхода напишите Esc.\\n\\n\")\n",
    "    \n",
    "while True:\n",
    "    try:\n",
    "        ticket_number = input('Введите номер проездного билета: ')\n",
    "\n",
    "        if ticket_number == 'Esc':\n",
    "            print(\"Программа завершена.\")\n",
    "            break      \n",
    "        # Если пользователь ввел что-то кроме числа, например, пробелы, Esc не отловится\n",
    "        if not ticket_number.strip():  \n",
    "            continue\n",
    "\n",
    "        ticket_str = str(ticket_number)\n",
    "        \n",
    "        if len(ticket_str) == 6:\n",
    "            # Разделяем номер на две части\n",
    "            first_half = ticket_str[:3]\n",
    "            second_half = ticket_str[3:]\n",
    "    \n",
    "            # Находим сумму первых трех цифр\n",
    "            first_sum = sum(int(digit) for digit in first_half)\n",
    "    \n",
    "            # Находим сумму последних трех цифр\n",
    "            second_sum = sum(int(digit) for digit in second_half)\n",
    "    \n",
    "            # Проверяем, является ли билет счастливым\n",
    "            if first_sum == second_sum:\n",
    "                print(f\"Билет номер {ticket_number} является счастливым!\")\n",
    "            else:\n",
    "                print(f\"Билет номер {ticket_number} не является счастливым.\")\n",
    "        else:\n",
    "            print(f\"Ошибка: Билет {ticket_number}, номер билета должен быть шестизначным.\")\n",
    "            \n",
    "    except ValueError:\n",
    "        print(\"Неверный ввод! Введите целое число.\")"
   ]
  }
 ],
 "metadata": {
  "kernelspec": {
   "display_name": "Python 3",
   "language": "python",
   "name": "python3"
  },
  "language_info": {
   "codemirror_mode": {
    "name": "ipython",
    "version": 3
   },
   "file_extension": ".py",
   "mimetype": "text/x-python",
   "name": "python",
   "nbconvert_exporter": "python",
   "pygments_lexer": "ipython3",
   "version": "3.11.9"
  }
 },
 "nbformat": 4,
 "nbformat_minor": 2
}
